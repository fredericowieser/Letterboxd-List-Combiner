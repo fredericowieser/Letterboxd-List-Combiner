{
 "cells": [
  {
   "cell_type": "markdown",
   "id": "d6a3eff6",
   "metadata": {},
   "source": [
    "In this notebook we will be taking a multitude of lists on Letterboxd (a movie list website) and parsing through the webpages to form a master list which does not contain repeats of any of the movies in these lists.\n",
    "\n",
    "This list is with the aim of being used as a \"check list\" for when I will be downloading the films from Piratebay in order to keep track of which films have been downloaded."
   ]
  },
  {
   "cell_type": "code",
   "execution_count": 79,
   "id": "b2769b60",
   "metadata": {},
   "outputs": [],
   "source": [
    "import requests\n",
    "import numpy as np\n",
    "import pandas as pd\n",
    "\n",
    "from time import sleep\n",
    "from bs4 import BeautifulSoup\n",
    "\n",
    "list_of_lists_path = r'/Users/fredericowieser/Documents/Web-Scraping-Letterboxd/letterboxd-film-lists.csv'\n",
    "master_list_csv_path = r'/Users/fredericowieser/Documents/Web-Scraping-Letterboxd/MASTER-film-lists.csv'"
   ]
  },
  {
   "cell_type": "code",
   "execution_count": 36,
   "id": "e9dc1a97",
   "metadata": {},
   "outputs": [],
   "source": [
    "df = pd.read_csv(list_of_lists_path)"
   ]
  },
  {
   "cell_type": "code",
   "execution_count": 10,
   "id": "ce00d880",
   "metadata": {},
   "outputs": [
    {
     "name": "stdout",
     "output_type": "stream",
     "text": [
      "                                               links\n",
      "0  https://letterboxd.com/purecinema1/list/brazil...\n",
      "1  https://letterboxd.com/ivica_pusticki/list/fin...\n",
      "2  https://letterboxd.com/ivica_pusticki/list/fin...\n",
      "3  https://letterboxd.com/ivica_pusticki/list/fin...\n",
      "4  https://letterboxd.com/ivica_pusticki/list/fin...\n"
     ]
    }
   ],
   "source": [
    "print(df.head())"
   ]
  },
  {
   "cell_type": "markdown",
   "id": "fb697aff",
   "metadata": {},
   "source": [
    "### Links Array"
   ]
  },
  {
   "cell_type": "code",
   "execution_count": 12,
   "id": "185e6483",
   "metadata": {},
   "outputs": [],
   "source": [
    "links = df['links'].tolist()"
   ]
  },
  {
   "cell_type": "markdown",
   "id": "bb31aed9",
   "metadata": {},
   "source": [
    "### Method for taking link and getting array of films"
   ]
  },
  {
   "cell_type": "code",
   "execution_count": 38,
   "id": "83ca9427",
   "metadata": {},
   "outputs": [],
   "source": [
    "def get_movies(link : str) -> list[str]:\n",
    "    \"\"\"\n",
    "    Looks at a letterboxd list link and returns a list type of the titles and release\n",
    "    year of the films which are featured in the link.\n",
    "    \"\"\"\n",
    "    # Get page HTML data\n",
    "    page = requests.get(link)\n",
    "    \n",
    "    soup = BeautifulSoup(page.content, \"html.parser\")\n",
    "    \n",
    "    films_html = soup.find_all(\"li\", class_=\"film-detail\")\n",
    "    \n",
    "    films_html_len = len(films_html)\n",
    "    \n",
    "    films_from_page = [\"\"]*films_html_len\n",
    "    \n",
    "    for i in range(films_html_len):\n",
    "        title = films_html[i].find_all('a')[0].text\n",
    "        year = films_html[i].find_all('a')[1].text\n",
    "        \n",
    "        films_from_page[i] = [title, year]\n",
    "    \n",
    "    sleep(5)\n",
    "    \n",
    "    return films_from_page"
   ]
  },
  {
   "cell_type": "code",
   "execution_count": 41,
   "id": "c226bef2",
   "metadata": {},
   "outputs": [],
   "source": [
    "def get_movies_str(link : str) -> str:\n",
    "    \"\"\"\n",
    "    Looks at a letterboxd list link and returns a list type of the titles and release\n",
    "    year of the films which are featured in the link.\n",
    "    \"\"\"\n",
    "    # Get page HTML data\n",
    "    page = requests.get(link)\n",
    "    \n",
    "    soup = BeautifulSoup(page.content, \"html.parser\")\n",
    "    \n",
    "    films_html = soup.find_all(\"li\", class_=\"film-detail\")\n",
    "    \n",
    "    films_html_len = len(films_html)\n",
    "    \n",
    "    films_from_page = [\"\"]*films_html_len\n",
    "    \n",
    "    for i in range(films_html_len):\n",
    "        title = films_html[i].find_all('a')[0].text\n",
    "        year = films_html[i].find_all('a')[1].text\n",
    "        \n",
    "        films_from_page[i] = f\"{title}, {year}\"\n",
    "    \n",
    "    sleep(5)\n",
    "    \n",
    "    return films_from_page"
   ]
  },
  {
   "cell_type": "code",
   "execution_count": 34,
   "id": "a8a5cccf",
   "metadata": {
    "scrolled": true
   },
   "outputs": [
    {
     "data": {
      "text/plain": [
       "[['City of God', '2002'],\n",
       " ['Pixote', '1980'],\n",
       " ['Central Station', '1998'],\n",
       " ['Aquarius', '2016'],\n",
       " ['Bacurau', '2019'],\n",
       " ['Black God, White Devil', '1964'],\n",
       " ['Entranced Earth', '1967'],\n",
       " ['Neighboring Sounds', '2012'],\n",
       " [\"A Dog's Will\", '2000'],\n",
       " ['The Second Mother', '2015'],\n",
       " ['Limite', '1931'],\n",
       " ['Behind the Sun', '2001'],\n",
       " ['The Given Word', '1962'],\n",
       " ['Barren Lives', '1963'],\n",
       " ['São Paulo, S.A.', '1965'],\n",
       " ['Twenty Years Later', '1984'],\n",
       " ['Invisible Life', '2019'],\n",
       " [\"At Midnight I'll Take Your Soul\", '1964'],\n",
       " ['The Red Light Bandit', '1968'],\n",
       " ['Elite Squad', '2007'],\n",
       " ['Boy & the World', '2013'],\n",
       " ['Neon Bull', '2015'],\n",
       " [\"They Don't Wear Black Tie\", '1981'],\n",
       " ['Kiss of the Spider Woman', '1985'],\n",
       " ['Isle of Flowers', '1989'],\n",
       " ['Mango Yellow', '2002'],\n",
       " ['Playing', '2007'],\n",
       " ['Good Manners', '2017'],\n",
       " ['Macunaima', '1969'],\n",
       " ['Dona Flor and Her Two Husbands', '1976'],\n",
       " ['Lúcio Flávio, the Passenger of the Agony', '1977'],\n",
       " ['Four Days in September', '1997'],\n",
       " ['Madame Satã', '2002'],\n",
       " ['Carandiru', '2003'],\n",
       " ['Drained', '2006'],\n",
       " ['Love for Sale', '2006'],\n",
       " ['The Year My Parents Went on Vacation', '2006'],\n",
       " ['Elite Squad: The Enemy Within', '2010'],\n",
       " ['The Way He Looks', '2014'],\n",
       " ['Carnaval Atlântida', '1952'],\n",
       " ['Rio, 40 Degrees C.', '1955'],\n",
       " ['Jeca Tatu', '1959'],\n",
       " ['Mazzaropi - Tristeza do Jeca', '1961'],\n",
       " ['Assault on the Pay Train', '1962'],\n",
       " ['Men and Women', '1964'],\n",
       " ['The Deceased', '1965'],\n",
       " ['The Priest and the Girl', '1966'],\n",
       " ['O Corintiano', '1967'],\n",
       " [\"This Night I'll Possess Your Corpse\", '1967'],\n",
       " ['Antonio das Mortes', '1969'],\n",
       " ['Copacabana Mon Amour', '1970'],\n",
       " ['S. Bernardo', '1972'],\n",
       " ['Soul in the Eye', '1973'],\n",
       " ['Iracema', '1975'],\n",
       " ['Sea of Roses', '1978'],\n",
       " ['Bye Bye Brazil', '1980'],\n",
       " ['The Asphalt Kiss', '1981'],\n",
       " ['Heart and Guts', '1982'],\n",
       " ['Memories of Prison', '1984'],\n",
       " ['After Eight... Forever', '1987'],\n",
       " ['Amélia', '2000'],\n",
       " ['The Happy Cricket', '2001'],\n",
       " ['To the Left of the Father', '2001'],\n",
       " ['Bus 174', '2002'],\n",
       " ['Durval Records', '2002'],\n",
       " ['Master, a Building in Copacabana', '2002'],\n",
       " ['The Trespasser', '2001'],\n",
       " ['The Man Who Copied', '2003'],\n",
       " ['Cinema, Aspirins and Vultures', '2005'],\n",
       " ['Bog of Beasts', '2006'],\n",
       " ['Basic Sanitation: The Movie', '2007'],\n",
       " ['Cleopatra', '2007'],\n",
       " ['Play a Song for Me', '2009'],\n",
       " ['I Travel Because I Have to, I Come Back Because I Love You', '2009'],\n",
       " ['Reflexões de um Liquidificador', '2010'],\n",
       " ['Hard Labor', '2011'],\n",
       " ['Elena', '2012'],\n",
       " ['Sentimental Education', '2013'],\n",
       " ['August Winds', '2014'],\n",
       " ['Futuro Beach', '2014'],\n",
       " ['The Telescope of Time', '2014'],\n",
       " ['Kill Me Please', '2015'],\n",
       " ['Political Animal', '2017'],\n",
       " ['Bingo: The King of the Mornings', '2017'],\n",
       " ['Gabriel and the Mountain', '2017'],\n",
       " ['In the Intense Now', '2017'],\n",
       " ['Pendular', '2017'],\n",
       " [\"The Father's Shadow\", '2018'],\n",
       " ['Nossa Chape', '2018'],\n",
       " ['Sol Alegria', '2018'],\n",
       " ['Unremember', '2018'],\n",
       " ['The Edge of Democracy', '2019'],\n",
       " ['In the Heart of the World', '2019'],\n",
       " ['Marighella', '2019'],\n",
       " ['Monica and Friends: Bonds', '2019']]"
      ]
     },
     "execution_count": 34,
     "metadata": {},
     "output_type": "execute_result"
    }
   ],
   "source": [
    "# Test\n",
    "get_movies(links[0])"
   ]
  },
  {
   "cell_type": "markdown",
   "id": "4cc0d5c7",
   "metadata": {},
   "source": [
    "### Making Master Movie List\n",
    "\n",
    "The master movie list is a list of movies where we are going to take the lists from each webpage and create a list containing no duplicates."
   ]
  },
  {
   "cell_type": "code",
   "execution_count": 37,
   "id": "0d76bd77",
   "metadata": {},
   "outputs": [],
   "source": [
    "def remove_duplicates(master_list : list[[str, str]], new_list : list[[str, str]]) -> list[[str, str]]:\n",
    "    # Find elements that are in new_list but not in master_list\n",
    "    new = set(new_list) - set(master_list)\n",
    "\n",
    "    # Create the new list using list concatenation\n",
    "    l = master_list + list(new)\n",
    "    return l"
   ]
  },
  {
   "cell_type": "code",
   "execution_count": 43,
   "id": "b31ce2dd",
   "metadata": {},
   "outputs": [],
   "source": [
    "test1 = get_movies_str(links[0])\n",
    "test2 = get_movies_str(links[1])"
   ]
  },
  {
   "cell_type": "code",
   "execution_count": 44,
   "id": "46ea32be",
   "metadata": {},
   "outputs": [],
   "source": [
    "master_list = remove_duplicates(test1, test2)"
   ]
  },
  {
   "cell_type": "code",
   "execution_count": 46,
   "id": "0060ecf5",
   "metadata": {},
   "outputs": [
    {
     "name": "stdout",
     "output_type": "stream",
     "text": [
      "195\n"
     ]
    }
   ],
   "source": [
    "print(len(master_list))"
   ]
  },
  {
   "cell_type": "code",
   "execution_count": 51,
   "id": "76d99e8b",
   "metadata": {},
   "outputs": [],
   "source": [
    "def links_csv_2_master_list_letterboxd(links : list[str]) -> list[list[str, str]]:\n",
    "    \n",
    "    master_list = get_movies_str(links[0])\n",
    "    \n",
    "    for i in range(len(links) - 1):\n",
    "        new_list = get_movies_str(links[i + 1])\n",
    "        \n",
    "        master_list = remove_duplicates(master_list, new_list)\n",
    "    \n",
    "    return master_list"
   ]
  },
  {
   "cell_type": "code",
   "execution_count": 61,
   "id": "a9c399e5",
   "metadata": {},
   "outputs": [],
   "source": [
    "master_list = links_csv_2_master_list_letterboxd(links)"
   ]
  },
  {
   "cell_type": "code",
   "execution_count": 62,
   "id": "8d8e1023",
   "metadata": {},
   "outputs": [
    {
     "name": "stdout",
     "output_type": "stream",
     "text": [
      "1159\n"
     ]
    }
   ],
   "source": [
    "print(len(master_list))"
   ]
  },
  {
   "cell_type": "code",
   "execution_count": 63,
   "id": "c547c0aa",
   "metadata": {},
   "outputs": [
    {
     "name": "stdout",
     "output_type": "stream",
     "text": [
      "['(500) Days of Summer, 2009', '12 Angry Men, 1957', '12, 2007', '13th, 2016', '2001: A Space Odyssey, 1968', '20th Century Women, 2016', '3-Iron, 2004', '300, 2006', '4 Months, 3 Weeks and 2 Days, 2007', '8½, 1963', 'A Christmas Story, 1983', 'A Clockwork Orange, 1971', 'A Countess from Hong Kong, 1967', \"A Dog's Will, 2000\", 'A Fistful of Dollars, 1964', 'A Generation, 1955', 'A Girl Walks Home Alone at Night, 2014', 'A Guide to Recognizing Your Saints, 2006', \"A Hard Day's Night, 1964\", 'A Hard Day, 2014', 'A Heart in Winter, 1992', 'A Night to Remember, 1958', 'A Nightmare on Elm Street, 1984', 'A Page of Madness, 1926', 'A Pigeon Sat on a Branch Reflecting on Existence, 2014', 'A Serious Man, 2009', 'A Shot in the Dark, 1964', 'A Silent Voice, 2016', 'A Simple Plan, 1998', 'A Town Called Panic, 2009', 'Ace Ventura: Pet Detective, 1994', 'Ace in the Hole, 1951', 'Adaptation., 2002', 'Aelita: Queen of Mars, 1924', 'After Eight... Forever, 1987', 'Aguirre, the Wrath of God, 1972', 'Airplane!, 1980', 'Akira, 1988', 'Ali: Fear Eats the Soul, 1974', 'Alice, 1988', 'Alien, 1979', 'Aliens, 1986', 'Alive Inside, 2014', 'All About My Mother, 1999', 'All That Jazz, 1979', \"All the President's Men, 1976\", 'Almost Famous, 2000', 'Amadeus, 1984', 'Amazing Grace, 2006', 'American Beauty, 1999', 'American Graffiti, 1973', 'American Hardcore, 2006', 'American History X, 1998', 'American Honey, 2016', 'American Movie, 1999', 'American Psycho, 2000', 'Amélia, 2000', 'An American Werewolf in London, 1981', 'An Average Little Man, 1977', 'Anchorman: The Legend of Ron Burgundy, 2004', 'And Then There Were None, 1945', 'Andrei Rublev, 1966', \"Angel's Egg, 1985\", 'Annie Hall, 1977', 'Anomalisa, 2015', 'Another Earth, 2011', 'Antonio das Mortes, 1969', 'Antz, 1998', 'Apocalypse Now, 1979', 'Apocalypto, 2006', 'Aquarius, 2016', 'Araya, 1959', 'Arrival, 2016', 'Ashes and Diamonds, 1958', 'Assault on Precinct 13, 1976', 'Assault on the Pay Train, 1962', \"At Midnight I'll Take Your Soul, 1964\", 'Audition, 1999', 'August Winds, 2014', \"Azur & Asmar: The Princes' Quest, 2006\", 'Baby Face, 1933', 'Back to the Future, 1985', 'Bacurau, 2019', 'Bad Black, 2016', 'Badlands, 1973', 'Band of Outsiders, 1964', 'Baraka, 1992', 'Barbie and the Diamond Castle, 2008', 'Barbie as The Princess & the Pauper, 2004', 'Barbie in The 12 Dancing Princesses, 2006', 'Barbie: Princess Charm School, 2011', 'Barren Lives, 1963', 'Barry Lyndon, 1975', 'Barton Fink, 1991', 'Baseball, 1994', 'Basic Instinct, 1992', 'Basic Sanitation: The Movie, 2007', 'Batman Begins, 2005', 'Batman Returns, 1992', 'Batman, 1989', 'Batman: Mask of the Phantasm, 1993', 'Battle Royale, 2000', 'Battleship Potemkin, 1925', 'Beasts of No Nation, 2015', 'Beasts of the Southern Wild, 2012', 'Beetlejuice, 1988', 'Before the Rain, 1994', 'Behind the Door, 1919', 'Behind the Sun, 2001', 'Belle de Jour, 1967', 'Ben-Hur, 1959', 'Best in Show, 2000', 'Better Off Dead..., 1985', 'Beyond the Black Rainbow, 2010', 'Bicycle Thieves, 1948', 'Big Bad Wolves, 2013', 'Big Fish, 2003', 'Big Trouble in Little China, 1986', 'Bilbao, 1978', 'Bill Hicks: Revelations, 1993', 'Bingo: The King of the Mornings, 2017', 'Birdman or (The Unexpected Virtue of Ignorance), 2014', 'Black God, White Devil, 1964', 'Black Hawk Down, 2001', 'Black Moon, 1975', 'Black Orpheus, 1959', 'Black Swan, 2010', 'Black Wind, 1965', 'Blade II, 2002', 'Blade Runner, 1982', 'Blazing Saddles, 1974', 'Blood Wedding, 1981', 'Blow Out, 1981', 'Blue Is the Warmest Color, 2013', 'Blue Strait, 2015', 'Blue Valentine, 2010', 'Blue Velvet, 1986', 'Body Double, 1984', 'Bog of Beasts, 2006', 'Bone Tomahawk, 2015', 'Boogie Nights, 1997', 'Boogie, 2009', 'Boy & the World, 2013', 'Boyhood, 2014', 'Braindead, 1992', 'Brazil, 1985', 'Breathless, 1960', 'Brick, 2005', 'Brief Encounter, 1945', 'Brightness, 1987', 'Brokeback Mountain, 2005', 'Brooklyn, 2015', 'Brotherhood of the Wolf, 2001', \"Bruce Lee: A Warrior's Journey, 2000\", 'Bud Abbott and Lou Costello Meet Frankenstein, 1948', 'Bullitt, 1968', 'Bunny Lake Is Missing, 1965', 'Bus 174, 2002', 'Butch Cassidy and the Sundance Kid, 1969', 'Bye Bye Brazil, 1980', 'Candy, 2006', 'Candyman, 1992', 'Canoa: A Shameful Memory, 1976', 'Cape Fear, 1962', 'Captain America: The Winter Soldier, 2014', 'Captain Fantastic, 2016', 'Carandiru, 2003', 'Carnaval Atlântida, 1952', 'Carol, 2015', 'Carrie, 1976', 'Casablanca, 1942', 'Casino Royale, 2006', 'Castle in the Sky, 1986', 'Central Station, 1998', 'Certified Copy, 2010', 'Charade, 1963', 'Chef, 2014', 'Chennai Express, 2013', 'Chicago, 1927', 'Chicken Run, 2000', 'Children of Men, 2006', 'Chinatown, 1974', 'Chocolate Strawberry Vanilla, 2013', 'Chungking Express, 1994', 'Cinema Paradiso, 1988', 'Cinema, Aspirins and Vultures, 2005', 'Circumstance, 2011', 'Citizen Kane, 1941', 'City Lights, 1931', 'City of God, 2002', 'City of Life and Death, 2009', 'Clandestinos, 1987', 'Cleopatra, 2007', 'Clerks, 1994', 'Cloud Atlas, 2012', 'Cloverfield, 2008', 'Clue, 1985', 'Cobain: Montage of Heck, 2015', 'Coco, 2017', 'Coherence, 2013', 'Collateral, 2004', 'Colossal, 2016', 'Come and See, 1985', 'Comet in Moominland, 1992', 'Con Air, 1997', 'Confessions, 2010', 'Contempt, 1963', 'Cool Hand Luke, 1967', 'Copacabana Mon Amour, 1970', 'Coraline, 2009', 'Courage for Every Day, 1965', 'Cowboy Bebop: The Movie, 2001', 'Crank, 2006', 'Crash, 1996', 'Cronos, 1993', 'Crouching Tiger, Hidden Dragon, 2000', 'Crumb, 1994', 'Cría cuervos…, 1976', 'Cube, 1997', 'Cyclo, 1995', 'D.I.Y. or Die: How to Survive as an Independent Artist, 2002', 'Dancer in the Dark, 2000', 'Daniel, the Wizard, 2004', 'Dark City, 1998', 'Das Boot, 1981', 'Daughters of the Dust, 1991', 'Dawn of the Dead, 1978', 'Day for Night, 1973', 'Days of Santiago, 2004', 'Dazed and Confused, 1993', 'Dead Man, 1995', 'Dead Ringers, 1988', 'Death by Hanging, 1968', 'Death in Brunswick, 1990', 'Design for Living, 1933', 'Destination Moon, 1950', 'Detour, 1945', 'Diabolique, 1955', 'Diary of a Country Priest, 1951', 'Die Hard, 1988', 'Dirty Harry, 1971', 'Django Unchained, 2012', 'Django, 1966', 'Do the Right Thing, 1989', 'Dog Day Afternoon, 1975', 'Dog Soldiers, 2002', 'Dogtooth, 2009', 'Dona Flor and Her Two Husbands, 1976', 'Donnie Darko, 2001', 'Dont Look Back, 1967', 'Dou kyu sei – Classmates, 2016', 'Double Indemnity, 1944', 'Down by Law, 1986', 'Dr. Strangelove or: How I Learned to Stop Worrying and Love the Bomb, 1964', 'Dracula, 1931', 'Drained, 2006', 'Drive, 1997', 'Drive, 2011', 'Driving Miss Daisy, 1989', 'Drug War, 2012', 'Dude Bro Party Massacre III, 2015', 'Duel, 1971', 'Durval Records, 2002', 'Eastern Condors, 1987', 'Eastern Promises, 2007', 'Easy Rider, 1969', 'Eating Raoul, 1982', 'Ecstasy, 1933', 'Ed Wood, 1994', 'Edward Scissorhands, 1990', 'El Mariachi, 1992', 'El Topo, 1970', 'Elena, 2012', 'Elisa Before the End of the World, 1997', 'Elite Squad, 2007', 'Elite Squad: The Enemy Within, 2010', 'Enter the Dragon, 1973', 'Enter the Void, 2009', 'Entranced Earth, 1967', 'Eraserhead, 1977', 'Ernest & Celestine, 2012', 'Erotikon, 1929', 'Escape from New York, 1981', 'Eternal Sunshine of the Spotless Mind, 2004', 'Evangelion: 3.0+1.0 Thrice Upon a Time, 2021', 'Evil Dead II, 1987', 'Exiled, 2006', 'Eyes Wide Shut, 1999', 'Eyes Without a Face, 1960', 'F for Fake, 1973', 'FDR: American Badass!, 2012', 'Face/Off, 1997', 'Fallen Angel, 1945', 'Fanny and Alexander, 1982', 'Fantastic Mr. Fox, 2009', 'Fantastic Planet, 1973', 'Farewell My Concubine, 1993', 'Fargo, 1996', 'Father, 1966', 'Felon, 2008', 'Fiddler on the Roof, 1971', 'Field of Dreams, 1989', 'Fight Club, 1999', 'Finding Nemo, 2003', 'Fireworks, 1997', 'First Blood, 1982', 'Fists in the Pocket, 1965', 'Flash Gordon, 1980', 'Flee, 2021', 'For a Few Dollars More, 1965', 'Four Days in September, 1997', 'Frances Ha, 2012', 'Freaked, 1993', 'Freddy Got Fingered, 2001', 'Frenzy, 1972', 'Fritz the Cat, 1972', 'From Russia with Love, 1963', 'From Up on Poppy Hill, 2011', 'Full Metal Jacket, 1987', 'Futuro Beach, 2014', 'Gabriel and the Mountain, 2017', 'George Washington, 2000', 'Germany Year Zero, 1948', 'Get Out, 2017', 'Get Shorty, 1995', 'Ghost in the Shell, 1995', 'Ghost, 1990', 'Ghostbusters, 1984', 'Gilda, 1946', 'Godzilla, 1954', 'Going Clear: Scientology and the Prison of Belief, 2015', 'Gold Diggers of 1933, 1933', 'Goldfinger, 1964', 'Gone Baby Gone, 2007', 'Gone Girl, 2014', 'Good Burger, 1997', 'Good Bye Lenin!, 2003', 'Good Dick, 2008', 'Good Manners, 2017', 'Good Morning, 1959', 'Good Will Hunting, 1997', 'GoodFellas, 1990', 'Gozu, 2003', 'Grave of the Fireflies, 1988', 'Green Room, 2015', 'Groundhog Day, 1993', \"Guillermo del Toro's Pinocchio, 2022\", 'Gummo, 1997', 'Hail the Conquering Hero, 1944', 'Hail, Caesar!, 2016', 'Halloween, 1978', 'Happy Together, 1997', 'Harakiri, 1962', 'Hard Labor, 2011', 'Hard Target, 1993', 'Hard Times, 1975', 'Harishchandrachi Factory, 2009', 'Harmony Lessons, 2013', 'Harold and Maude, 1971', 'Harry Potter and the Prisoner of Azkaban, 2004', 'Heart and Guts, 1982', 'Heart of Glass, 1976', 'Heat, 1995', \"Heaven's Gate, 1980\", 'Heavenly Creatures, 1994', 'Her, 2013', 'High Noon, 1952', 'High and Low, 1963', 'Hiroshima Mon Amour, 1959', 'His Girl Friday, 1940', 'Holiday, 1938', 'Home Alone, 1990', 'Hoop Dreams, 1994', 'Hot Fuzz, 2007', 'Hot Rod, 2007', 'Hotel Rwanda, 2004', 'How Green Was My Valley, 1941', 'How to Train Your Dragon, 2010', \"Howl's Moving Castle, 2004\", 'Hugo, 2011', 'Humanity and Paper Balloons, 1937', 'Hunt for the Wilderpeople, 2016', 'Häxan, 1922', 'I Am Not Madame Bovary, 2016', 'I Killed My Mother, 2009', 'I Saw the Devil, 2010', 'I Travel Because I Have to, I Come Back Because I Love You, 2009', 'I Walked with a Zombie, 1943', 'I, Daniel Blake, 2016', 'Ida, 2013', 'Ikiru, 1952', 'In Bruges, 2008', 'In This Corner of the World, 2016', 'In the Heart of the World, 2019', 'In the Heat of the Night, 1967', 'In the Intense Now, 2017', 'In the Loop, 2009', 'In the Mood for Love, 2000', 'In the Mouth of Madness, 1994', 'Inception, 2010', 'Indiana Jones and the Last Crusade, 1989', 'Indiana Jones and the Temple of Doom, 1984', 'Inglourious Basterds, 2009', 'Inherent Vice, 2014', 'Inland Empire, 2006', 'Inside Job, 2010', 'Inside Llewyn Davis, 2013', 'Interstate 60, 2002', 'Interstella 5555: The 5tory of the 5ecret 5tar 5ystem, 2003', 'Interstellar, 2014', 'Interview with the Vampire, 1994', \"Intolerance: Love's Struggle Throughout the Ages, 1916\", 'Invasion, 1969', 'Investigation of a Citizen Above Suspicion, 1970', 'Invisible Life, 2019', 'Iracema, 1975', 'Iron Man, 2008', 'Isle of Dogs, 2018', 'Isle of Flowers, 1989', 'It Follows, 2014', 'It Happened One Night, 1934', \"It's Such a Beautiful Day, 2012\", \"It's a Wonderful Life, 1946\", \"Ivan's Childhood, 1962\", 'JCVD, 2008', 'JFK, 1991', 'Jackie Brown, 1997', 'Jacquot, 1991', 'Jaws, 1975', 'Jeanne Dielman, 23, quai du Commerce, 1080 Bruxelles, 1975', 'Jeca Tatu, 1959', 'Jiro Dreams of Sushi, 2011', 'Joe Versus the Volcano, 1990', 'Jurassic Park, 1993', 'Kagemusha, 1980', 'Kanal, 1957', 'Kick-Ass, 2010', 'Kids, 1995', \"Kiki's Delivery Service, 1989\", 'Kill Bill: The Whole Bloody Affair, 2011', 'Kill Me Please, 2015', 'King Kong, 1933', 'King Kong, 2005', 'Kingsman: The Secret Service, 2014', 'Kisapmata, 1981', 'Kiss Kiss Bang Bang, 2005', 'Kiss of the Spider Woman, 1985', 'Klaus, 2019', 'Knight of Cups, 2015', 'Knowing, 2009', 'Koyaanisqatsi, 1982', 'Krisha, 2015', 'Kubo and the Two Strings, 2016', \"L'Atalante, 1934\", \"L'Avventura, 1960\", 'L.A. Confidential, 1997', 'L.A. Story, 1991', 'La Dolce Vita, 1960', 'La Grande Bouffe, 1973', 'La La Land, 2016', 'La Strada, 1954', 'Lady Snowblood, 1973', 'Lars and the Real Girl, 2007', 'Last Life in the Universe, 2003', 'Last Train Home, 2009', 'Last Year at Marienbad, 1961', 'Late Spring, 1949', 'Law of Desire, 1987', 'Lawrence of Arabia, 1962', 'Le Samouraï, 1967', 'Le Trou, 1960', 'Lenny, 1974', 'Let the Right One In, 2008', 'Letter Never Sent, 1960', 'Letter from an Unknown Woman, 1948', 'Letters from Iwo Jima, 2006', 'Life of Brian, 1979', 'Life, Animated, 2016', 'Lilo & Stitch, 2002', 'Limite, 1931', 'Linda Linda Linda, 2005', 'Little Miss Sunshine, 2006', 'Liz and the Blue Bird, 2018', 'Lock, Stock and Two Smoking Barrels, 1998', 'Logan, 2017', 'London, 2005', 'Lone Star State of Mind, 2002', \"Lorna's Silence, 2008\", 'Lost Highway, 1997', 'Lost in Translation, 2003', 'Love Exposure, 2008', 'Love for Sale, 2006', 'Love, 1971', 'Loving Vincent, 2017', 'Lupin the Third: The Castle of Cagliostro, 1979', 'Léon: The Professional, 1994', 'Lúcio Flávio, the Passenger of the Agony, 1977', 'M, 1931', 'Macunaima, 1969', 'Mad Max 2, 1981', 'Mad Max: Fury Road, 2015', 'Madame Satã, 2002', 'Magnolia, 1999', 'Malcolm X, 1992', 'Man on Fire, 2004', 'Man on the Moon, 1999', 'Manchester by the Sea, 2016', 'Mango Yellow, 2002', 'Manhattan, 1979', 'Manhunter, 1986', 'Marcel the Shell with Shoes On, 2021', 'Margaret, 2011', 'Marighella, 2019', 'Marketa Lazarová, 1967', 'Mary Poppins, 1964', 'Mary and Max, 2009', 'Master, a Building in Copacabana, 2002', 'Mazzaropi - Tristeza do Jeca, 1961', 'Me and Earl and the Dying Girl, 2015', 'Mean Streets, 1973', 'Memento, 2000', 'Memories of Murder, 2003', 'Memories of Prison, 1984', 'Memories of Underdevelopment, 1968', 'Men and Women, 1964', 'Merrily We Go to Hell, 1932', 'Metropolis, 1927', 'Metropolitan, 1990', 'Midnight Run, 1988', 'Mildred Pierce, 1945', 'Millennium Actress, 2001', 'Millennium Mambo, 2001', \"Miller's Crossing, 1990\", 'Mind Game, 2004', 'Miracle Mile, 1988', 'Mirror, 1975', 'Misery, 1990', 'Mishima: A Life in Four Chapters, 1985', 'Miss Sloane, 2016', 'Mistaken for Strangers, 2013', 'Modern Times, 1936', 'Mommy, 2014', 'Monica and Friends: Bonds, 2019', 'Monster, 2003', 'Monsters, Inc., 2001', 'Monty Python and the Holy Grail, 1975', 'Moon, 2009', 'Moonlight, 2016', 'Moonrise Kingdom, 2012', 'Moonstruck, 1987', 'Mother, 2009', 'Moulin Rouge!, 2001', 'Mr. Smith Goes to Washington, 1939', 'Mulan, 1998', 'Mulholland Drive, 2001', 'Multiple Maniacs, 1970', 'Murder by Death, 1976', 'Mustang, 2015', 'My Darling Clementine, 1946', 'My Dinner with Andre, 1981', 'My Life as a Zucchini, 2016', 'My Name Is Khan, 2010', 'My Neighbor Totoro, 1988', 'My Own Private Idaho, 1991', 'My Scientology Movie, 2015', 'My Winnipeg, 2007', 'Mysteries of Lisbon, 2010', 'Mysterious Skin, 2004', 'Mystery Team, 2009', 'Mystic River, 2003', 'Naked, 1993', 'Napoleon Dynamite, 2004', 'Nashville, 1975', 'Nausicaä of the Valley of the Wind, 1984', 'Nazarin, 1959', 'Near Dark, 1987', 'Neighboring Sounds, 2012', 'Neon Bull, 2015', 'Neon Genesis Evangelion: The End of Evangelion, 1997', 'Network, 1976', 'Never Let Me Go, 2010', 'New Rose Hotel, 1998', 'Night Is Short, Walk on Girl, 2017', 'Night of the Living Dead, 1968', 'Nightcrawler, 2014', 'Nine Days of One Year, 1962', 'Nineteen Eighty-Four, 1984', 'Ninja Scroll, 1993', 'Ninja: Shadow of a Tear, 2013', 'No Country for Old Men, 2007', 'North by Northwest, 1959', 'Nosferatu, 1922', 'Nossa Chape, 2018', 'Notorious, 1946', 'O Brother, Where Art Thou?, 2000', 'O Corintiano, 1967', 'O.J.: Made in America, 2016', 'October Sky, 1999', 'Odd Number, 1962', 'Oldboy, 2003', \"On Her Majesty's Secret Service, 1969\", 'On the Silver Globe, 1988', 'On the Waterfront, 1954', 'Once Upon a Time in America, 1984', 'Once Upon a Time in the West, 1968', 'One False Move, 1992', \"One Flew Over the Cuckoo's Nest, 1975\", 'Only Lovers Left Alive, 2013', 'Only Yesterday, 1991', 'Opening Night, 1977', 'Orpheus, 1950', 'Osama, 2003', 'Oslo, August 31st, 2011', 'Othello, 1951', 'Over the Edge, 1979', \"Pan's Labyrinth, 2006\", 'Paprika, 2006', 'Paranoid Park, 2007', 'Paris Is Burning, 1990', 'Paris, Texas, 1984', 'Paterson, 2016', 'Pather Panchali, 1955', 'Pedro Paramo, 1967', \"Pee-wee's Big Adventure, 1985\", 'Peeping Tom, 1960', 'Pendular, 2017', 'Pennies from Heaven, 1981', 'Perfect Blue, 1997', 'Persepolis, 2007', 'Persona, 1966', 'Peter Pan, 2003', 'Picnic at Hanging Rock, 1975', 'Pieces, 1982', 'Pink Flamingos, 1972', 'Pinocchio, 1940', 'Pirates of the Caribbean: The Curse of the Black Pearl, 2003', 'Pixote, 1980', 'Plan 9 from Outer Space, 1957', 'Planet of the Apes, 1968', 'Play a Song for Me, 2009', 'Playing, 2007', 'Point Blank, 2010', 'Police Story, 1985', 'Political Animal, 2017', 'Ponyo, 2008', 'Poolhall Junkies, 2002', 'Porco Rosso, 1992', 'Portrait of Jennie, 1948', 'Possession, 1981', 'Predator, 1987', 'Primer, 2004', 'Princes and Princesses, 2000', 'Princess Mononoke, 1997', 'Princess, 2006', 'Prom Night, 1980', 'Psycho, 1960', 'Pulp Fiction, 1994', 'Punch-Drunk Love, 2002', 'Purple Rain, 1984', 'Pyaasa, 1957', 'Queen of Katwe, 2016', 'Raging Bull, 1980', 'Raiders of the Lost Ark, 1981', 'Rain Man, 1988', 'Raise the Red Lantern, 1991', 'Raising Arizona, 1987', 'Ran, 1985', 'Rapture, 1979', 'Ratatouille, 2007', 'Ravenous, 1999', 'Razorback, 1984', 'Re-Animator, 1985', 'Rear Window, 1954', 'Rebel Without a Cause, 1955', 'Rebels of the Neon God, 1992', 'Red River, 1948', 'Redline, 2009', 'Reflexões de um Liquidificador, 2010', 'Remember the Titans, 2000', 'Rent, 2005', 'Repo Man, 1984', 'Resident Evil: Retribution, 2012', 'Resolution, 2012', 'Return of the Jedi, 1983', 'Revanche, 2008', 'Rio Bravo, 1959', 'Rio, 40 Degrees C., 1955', 'Road to Perdition, 2002', 'Roadgames, 1981', 'RoboCop, 1987', 'Rocky, 1976', 'Romper Stomper, 1992', 'Rope, 1948', \"Rosemary's Baby, 1968\", 'Rubber, 2010', 'Run Lola Run, 1998', 'Rushmore, 1998', 'S. Bernardo, 1972', 'Salò, or the 120 Days of Sodom, 1975', 'Sanjuro, 1962', 'Sans Soleil, 1983', 'Satantango, 1994', 'Save the Green Planet!, 2003', 'Scaramouche, 1952', 'Scent of a Woman, 1992', \"Schindler's List, 1993\", 'Scooby-Doo, 2002', 'Scott Pilgrim vs. the World, 2010', 'Scream, 1996', 'Se7en, 1995', 'Sea of Roses, 1978', 'Seconds, 1966', 'Secret Sunshine, 2007', 'Sentimental Education, 2013', 'Seven Brides for Seven Brothers, 1954', 'Seven Chances, 1925', 'Seven Psychopaths, 2012', 'Seven Samurai, 1954', 'Sex, Lies, and Videotape, 1989', 'Shadowlands, 1993', 'Shame, 2011', 'Shane, 1953', 'Shaolin Soccer, 2001', 'Shaun of the Dead, 2004', 'Sherlock, Jr., 1924', 'Shoah, 1985', 'Sholay, 1975', 'Shooting Stars, 1928', 'Shrek 2, 2004', 'Shrek, 2001', 'Shutter Island, 2010', 'Signs, 2002', 'Silent Light, 2007', 'Sin City: A Dame to Kill For, 2014', 'Sing Street, 2016', \"Singin' in the Rain, 1952\", 'Sleepless Night, 2011', 'Slither, 2006', 'Slumdog Millionaire, 2008', 'Smoke Signals, 1998', 'Snow White and the Seven Dwarfs, 1937', 'Snowpiercer, 2013', 'Sol Alegria, 2018', 'Solaris, 1972', 'Some Like It Hot, 1959', 'Son of Saul, 2015', 'Son of the White Mare, 1981', 'Sonatine, 1993', 'Song of the Sea, 2014', 'Songs from the Second Floor, 2000', 'Soul in the Eye, 1973', 'Soul, 2020', 'South Park: Bigger, Longer & Uncut, 1999', 'Southland Tales, 2006', 'Soylent Green, 1973', 'Spaceballs, 1987', 'Speed Racer, 2008', 'Spellbound, 1945', 'Spider-Man 2, 2004', 'Spider-Man: Into the Spider-Verse, 2018', 'Spirited Away, 2001', 'Splendor in the Grass, 1961', 'Spring Breakers, 2012', 'Stagecoach, 1939', 'Stalker, 1979', 'Stand by Me, 1986', 'Star Trek II: The Wrath of Khan, 1982', 'Star Wars, 1977', 'Starman, 1984', 'Starred Up, 2013', 'Starship Troopers, 1997', 'Still Life, 2013', 'Stop Making Sense, 1984', 'Storm Over Asia, 1928', 'Story of a Prostitute, 1965', 'Stranger Than Fiction, 2006', 'Stray Dog, 1949', 'Street Fighter, 1994', 'Strictly Ballroom, 1992', 'Su precio... unos dólares, 1970', 'Subarnarekha, 1965', 'Submarine, 2010', 'Summer Wars, 2009', 'Sundays and Cybele, 1962', 'Sunny, 2011', 'Sunrise: A Song of Two Humans, 1927', 'Sunset Boulevard, 1950', 'Sunshine, 2007', 'Superbad, 2007', 'Superman, 1978', 'Suspiria, 1977', 'Swing Time, 1936', 'Swiss Army Man, 2016', 'Sword of the Beast, 1965', 'Symbiopsychotaxiplasm: Take One, 1968', 'Synecdoche, New York, 2008', 'São Paulo, S.A., 1965', 'Tae Guk Gi: The Brotherhood of War, 2004', 'Take Shelter, 2011', 'Tampopo, 1985', 'Tangled, 2010', 'Tango & Cash, 1989', 'Taxi Driver, 1976', 'Team America: World Police, 2004', 'Tekkonkinkreet, 2006', 'Terminator 2: Judgment Day, 1991', 'Tetsuo: The Iron Man, 1989', 'The 36th Chamber of Shaolin, 1978', 'The 400 Blows, 1959', 'The Abominable Dr. Phibes, 1971', 'The Adventures of Prince Achmed, 1926', 'The Adventures of Robin Hood, 1938', 'The Age of Innocence, 1993', 'The Apartment, 1960', 'The Appaloosa, 1966', 'The Aristocrats, 2005', 'The Artist, 2011', 'The Asphalt Kiss, 1981', 'The Assassin, 2015', 'The Assassination of Jesse James by the Coward Robert Ford, 2007', 'The Bad Seed, 1956', 'The Bad Sleep Well, 1960', 'The Battle of Algiers, 1966', 'The Battle of Chile: Part I, 1975', 'The Best Years of Our Lives, 1946', 'The Big Boss, 1971', 'The Big Gundown, 1966', 'The Big Lebowski, 1998', 'The Blob, 1958', 'The Blob, 1988', 'The Breadwinner, 2017', 'The Breakfast Club, 1985', 'The Bride of Frankenstein, 1935', 'The Brothers Bloom, 2008', 'The Butcher Boy, 1997', 'The Cabinet of Dr. Caligari, 1920', 'The Castle, 1997', 'The Chaser, 2008', 'The City of Lost Children, 1995', 'The Civil War, 1990', 'The Clock, 1945', 'The Club, 2015', 'The Conformist, 1970', 'The Conversation, 1974', 'The Crow, 1994', 'The Crowd, 1928', 'The Curious Case of Benjamin Button, 2008', 'The Dark Knight Rises, 2012', 'The Dark Knight, 2008', 'The Day the Earth Stood Still, 1951', 'The Deceased, 1965', 'The Departed, 2006', 'The Devil and Daniel Johnston, 2005', \"The Devil's Backbone, 2001\", 'The Devils, 1971', 'The Dirty Dozen, 1967', 'The Dish, 2000', 'The Docks of New York, 1928', 'The Dreamlife of Angels, 1998', 'The Edge of Democracy, 2019', 'The Empire Strikes Back, 1980', 'The Evil Dead, 1981', 'The Exorcist, 1973', 'The Fall, 2006', \"The Father's Shadow, 2018\", 'The Fifth Element, 1997', 'The Final Exit of the Disciples of Ascensia, 2019', 'The Fire Within, 1963', 'The Fisher King, 1991', 'The Fly, 1986', 'The French Connection, 1971', 'The Garden of Sinners: Paradox Spiral, 2008', 'The General, 1926', 'The Girl Who Leapt Through Time, 2006', 'The Given Word, 1962', 'The Godfather, 1972', 'The Godfather: Part II, 1974', 'The Gold Rush, 1925', 'The Good, The Bad, The Weird, 2008', 'The Good, the Bad and the Ugly, 1966', 'The Goonies, 1985', 'The Graduate, 1967', 'The Grand Budapest Hotel, 2014', 'The Great Beauty, 2013', 'The Great Dictator, 1940', 'The Great Escape, 1963', 'The Great Silence, 1968', 'The Green Ray, 1986', 'The Handmaiden, 2016', 'The Happy Cricket, 2001', 'The Hard Way, 1991', 'The Headless Woman, 2008', 'The Hiding Place, 1975', 'The Hills Have Eyes, 1977', 'The Holy Mountain, 1973', 'The Host, 2006', 'The Hour of the Furnaces, 1968', 'The Incredible Shrinking Man, 1957', 'The Incredibles, 2004', 'The Innocents, 2016', 'The Insider, 1999', 'The Intouchables, 2011', 'The Invisible Guest, 2016', 'The Invisible Man, 1933', 'The Iron Giant, 1999', 'The Italian Connection, 1972', 'The Kid, 1921', 'The Killer, 1989', 'The King and the Mockingbird, 1980', 'The Last Boy Scout, 1991', 'The Last Picture Show, 1971', 'The Last Temptation of Christ, 1988', \"The League of Gentlemen's Apocalypse, 2005\", 'The Lego Movie, 2014', 'The Leopard, 1963', 'The Life of Oharu, 1952', 'The Lion King, 1994', 'The Lion in Winter, 1968', 'The Little Prince, 2015', 'The Longest Day, 1962', 'The Lord of the Rings: The Fellowship of the Ring, 2001', 'The Lord of the Rings: The Return of the King, 2003', 'The Lord of the Rings: The Two Towers, 2002', 'The Love Eterne, 1963', 'The Machinist, 2004', 'The Maltese Falcon, 1941', 'The Man Who Copied, 2003', 'The Man Who Fell to Earth, 1976', 'The Man from Nowhere, 2010', 'The Manchurian Candidate, 1962', 'The Master, 2012', 'The Matrix, 1999', 'The Meaning of Life, 1983', 'The Mitchells vs. The Machines, 2021', 'The Monkey King: Havoc in Heaven, 1961', 'The Mummy, 1932', 'The Mummy, 1999', 'The Neon Demon, 2016', 'The New World, 2005', 'The Nice Guys, 2016', 'The Night of the Hunter, 1955', 'The Nightmare Before Christmas, 1993', 'The Oak, 1992', 'The Omen, 1976', 'The Oregonian, 2011', 'The Organizer, 1963', 'The Orphanage, 2007', 'The Outsiders, 1983', 'The Ox-Bow Incident, 1942', 'The Passion of Joan of Arc, 1928', 'The Pinchcliffe Grand Prix, 1975', 'The Place Beyond the Pines, 2012', 'The Plague Dogs, 1982', 'The Player, 1992', 'The Postman Always Rings Twice, 1946', 'The Prestige, 2006', 'The Priest and the Girl, 1966', 'The Princess Bride, 1987', 'The Public Enemy, 1931', 'The Raid, 2011', 'The Red Light Bandit, 1968', 'The Red Shoes, 1948', 'The Red and the White, 1967', 'The Revenant, 2015', 'The Right Stuff, 1983', 'The River, 1951', 'The Road, 2009', 'The Rocky Horror Picture Show, 1975', 'The Room, 2003', 'The Rose Seller, 1998', 'The Rules of the Game, 1939', 'The Salt of the Earth, 2014', 'The Sandlot, 1993', 'The Searchers, 1956', 'The Second Mother, 2015', 'The Secret in Their Eyes, 2009', 'The Secret of NIMH, 1982', 'The Servant, 1963', 'The Seventh Seal, 1957', 'The Shadow, 1994', 'The Shawshank Redemption, 1994', 'The Shining, 1980', 'The Shop Around the Corner, 1940', 'The Silence of the Lambs, 1991', 'The Silences of the Palace, 1994', 'The Sixth Sense, 1999', 'The Social Network, 2010', 'The Son, 2002', 'The South, 1988', 'The Spirit of the Beehive, 1973', 'The Spy Who Came in from the Cold, 1965', 'The Spy Who Loved Me, 1977', 'The Station Agent, 2003', 'The Story of the Last Chrysanthemum, 1939', 'The Summit of the Gods, 2021', 'The Sword of Doom, 1966', 'The Tale of the Princess Kaguya, 2013', 'The Telescope of Time, 2014', 'The Terminator, 1984', 'The Testament of Dr. Mabuse, 1933', 'The Texas Chain Saw Massacre, 1974', 'The Thief of Bagdad, 1924', 'The Thin Blue Line, 1988', 'The Thin Man, 1934', 'The Thin Red Line, 1998', 'The Thing, 1982', 'The Third Generation, 1979', 'The Third Man, 1949', 'The Third Part of the Night, 1971', 'The Time to Live and the Time to Die, 1985', 'The Tree of Life, 2011', 'The Trespasser, 2001', 'The Truman Show, 1998', 'The Umbrellas of Cherbourg, 1964', 'The Unknown, 1927', 'The Unscrupulous Ones, 1962', 'The Untouchables, 1987', 'The Vanishing, 1988', 'The Wages of Fear, 1953', 'The Wanderers, 1979', 'The Warriors, 1979', 'The Wave, 2015', 'The Way He Looks, 2014', 'The Way, 2010', 'The Wild Bunch, 1969', 'The Wind Rises, 2013', 'The Witch, 2015', 'The Wizard of Oz, 1939', 'The Wizard of Speed and Time, 1988', 'The Wolf House, 2018', 'The Wolf Man, 1941', 'The Wolf of Wall Street, 2013', 'The Wrestler, 2008', 'The Year My Parents Went on Vacation, 2006', 'The Young Girls of Rochefort, 1967', 'The Young and the Damned, 1950', 'There Once Was a Singing Blackbird, 1970', 'There Will Be Blood, 2007', \"They Don't Wear Black Tie, 1981\", 'They Live, 1988', 'Thief, 1981', 'Things to Come, 1936', 'This Is Spinal Tap, 1984', \"This Night I'll Possess Your Corpse, 1967\", 'Three Colors: Blue, 1993', 'Three Monkeys, 2008', 'Throne of Blood, 1957', 'Throw Down, 2004', 'Tie Xi Qu: West of the Tracks, 2002', 'Time Bandits, 1981', 'Times Square, 1980', 'Tinker Tailor Soldier Spy, 2011', 'To Live and Die in L.A., 1985', 'To Live, 1994', 'To the Left of the Father, 2001', 'To the Wonder, 2012', 'Tokyo Drifter, 1966', 'Tokyo Godfathers, 2003', 'Tokyo Story, 1953', 'Tombstone, 1993', 'Top Five, 2014', 'Top Hat, 1935', 'Total Recall, 1990', 'Tower, 2016', 'Toy Story 2, 1999', 'Toy Story 3, 2010', 'Toy Story, 1995', 'Trainspotting, 1996', 'Treasure Island, 1989', 'Tree of Knowledge, 1981', 'Tremors, 1990', \"Trick 'r Treat, 2007\", 'Tropical Malady, 2004', 'Truck Turner, 1974', 'True Romance, 1993', 'Trust, 1990', 'Tux and Fanny, 2019', 'Twelve Monkeys, 1995', 'Twenty Years Later, 1984', 'Twin Peaks, 1990', 'Twin Peaks: Fire Walk with Me, 1992', 'Two English Girls, 1971', 'Umberto D., 1952', 'Unbreakable, 2000', 'Under the Skin, 2013', 'Underground, 1995', 'Universal Soldier: Day of Reckoning, 2012', 'Unknown Pleasures, 2002', 'Unremember, 2018', 'Up in the Air, 2009', 'Up, 2009', 'Upstream Color, 2013', 'Urusei Yatsura: Beautiful Dreamer, 1984', 'Used Cars, 1980', 'Ushpizin, 2004', 'V for Vendetta, 2005', 'Vanishing Point, 1971', 'Vengeance, 2009', 'Vertigo, 1958', 'Victoria, 2015', 'Video Nasties: Draconian Days, 2014', 'Video Nasties: Moral Panic, Censorship & Videotape, 2010', 'Videodrome, 1983', 'Voices Through Time, 1996', 'Volver, 2006', 'WALL·E, 2008', 'WR: Mysteries of the Organism, 1971', 'Wait Until Dark, 1967', 'Waiting for Happiness, 2002', 'Wake in Fright, 1971', 'Wallace & Gromit: The Curse of the Were-Rabbit, 2005', 'Waltz with Bashir, 2008', 'Warrior, 2011', 'Watchmen, 2009', 'Way Out West, 1937', 'We Need to Talk About Kevin, 2011', 'We Own the Night, 2007', 'Werckmeister Harmonies, 2000', 'What Love Is, 2007', 'What We Do in the Shadows, 2014', 'When Harry Met Sally..., 1989', 'When Marnie Was There, 2014', 'When the Wind Blows, 1986', \"Where Is My Friend's House?, 1987\", 'Whiplash, 2014', 'Whisper of the Heart, 1995', 'White God, 2014', 'White Zombie, 1932', 'Who Framed Roger Rabbit, 1988', \"Who's Camus Anyway?, 2005\", \"Who's That Knocking at My Door, 1967\", 'Wild Strawberries, 1957', 'Wild Tales, 2014', 'Willy Wonka & the Chocolate Factory, 1971', 'Wings of Desire, 1987', 'Wings, 1927', \"Winter's Bone, 2010\", 'Withnail & I, 1987', 'Witness, 1985', 'Wolf Children, 2012', 'Wolfwalkers, 2020', 'Women in Love, 1969', 'Wonder Woman, 2017', 'Wood Job!, 2014', 'World on a Wire, 1973', 'Written on the Wind, 1956', 'Wrong, 2012', 'Y Tu Mamá También, 2001', 'Yellow Submarine, 1968', 'Yi Yi, 2000', 'Yojimbo, 1961', \"You Don't Mess with the Zohan, 2008\", 'You, the Living, 2007', 'Young Frankenstein, 1974', 'Your Name., 2016', 'Yoyo, 1965', 'Zazie dans le Métro, 1960', 'Zodiac, 2007', 'if...., 1968']\n"
     ]
    }
   ],
   "source": [
    "master_list.sort()\n",
    "\n",
    "print(master_list)"
   ]
  },
  {
   "cell_type": "code",
   "execution_count": 80,
   "id": "fe3069f6",
   "metadata": {},
   "outputs": [],
   "source": [
    "master_list_new = [0]*len(master_list)\n",
    "\n",
    "for i in range(len(master_list)):\n",
    "    row_title = master_list[i][:-6]\n",
    "    row_year = master_list[i][-4:]\n",
    "    \n",
    "    master_list_new[i] = [row_title, row_year]"
   ]
  },
  {
   "cell_type": "code",
   "execution_count": 77,
   "id": "7348289e",
   "metadata": {},
   "outputs": [],
   "source": [
    "row_year = master_list[0][-4:]\n",
    "row_title = master_list[0][:-6]"
   ]
  },
  {
   "cell_type": "code",
   "execution_count": 78,
   "id": "f9fba3cb",
   "metadata": {},
   "outputs": [
    {
     "name": "stdout",
     "output_type": "stream",
     "text": [
      "2009\n",
      "(500) Days of Summer\n"
     ]
    }
   ],
   "source": [
    "print(row_year)\n",
    "print(row_title)"
   ]
  },
  {
   "cell_type": "code",
   "execution_count": 81,
   "id": "f196304b",
   "metadata": {},
   "outputs": [],
   "source": [
    "import csv\n",
    "\n",
    "# open the file in the write mode\n",
    "with open(master_list_csv_path, 'w') as f:\n",
    "    # create the csv writer\n",
    "    writer = csv.writer(f)\n",
    "    \n",
    "    for i in range(len(master_list_new)):\n",
    "        # write a row to the csv file\n",
    "        writer.writerow(master_list_new[i])"
   ]
  },
  {
   "cell_type": "code",
   "execution_count": null,
   "id": "dce906ba",
   "metadata": {},
   "outputs": [],
   "source": []
  }
 ],
 "metadata": {
  "kernelspec": {
   "display_name": "Python 3 (ipykernel)",
   "language": "python",
   "name": "python3"
  },
  "language_info": {
   "codemirror_mode": {
    "name": "ipython",
    "version": 3
   },
   "file_extension": ".py",
   "mimetype": "text/x-python",
   "name": "python",
   "nbconvert_exporter": "python",
   "pygments_lexer": "ipython3",
   "version": "3.9.13"
  }
 },
 "nbformat": 4,
 "nbformat_minor": 5
}
